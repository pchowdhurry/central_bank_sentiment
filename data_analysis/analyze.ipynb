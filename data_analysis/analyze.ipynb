{
 "cells": [
  {
   "cell_type": "code",
   "execution_count": 10,
   "id": "315e4696",
   "metadata": {},
   "outputs": [
    {
     "name": "stdout",
     "output_type": "stream",
     "text": [
      "e\n",
      "e\n",
      "o\n",
      " \n"
     ]
    }
   ],
   "source": [
    "import os \n",
    "import sys \n",
    "from pathlib import Path \n",
    "import pickle\n",
    "path_to_pickle = '../data/processed.pkl'\n",
    "\n",
    "data = ''\n",
    "with open(path_to_pickle, 'rb') as file : \n",
    "    data = pickle.load(file)\n",
    "\n",
    "for i, obj in enumerate(data.items()):\n",
    "    if i == 4:\n",
    "        break \n",
    "    else : \n",
    "        print(obj[1][10])\n"
   ]
  }
 ],
 "metadata": {
  "kernelspec": {
   "display_name": "macro",
   "language": "python",
   "name": "python3"
  },
  "language_info": {
   "codemirror_mode": {
    "name": "ipython",
    "version": 3
   },
   "file_extension": ".py",
   "mimetype": "text/x-python",
   "name": "python",
   "nbconvert_exporter": "python",
   "pygments_lexer": "ipython3",
   "version": "3.10.18"
  }
 },
 "nbformat": 4,
 "nbformat_minor": 5
}
